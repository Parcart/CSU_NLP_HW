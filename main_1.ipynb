{
 "cells": [
  {
   "metadata": {},
   "cell_type": "markdown",
   "source": "# 1. Загрузка набора данных",
   "id": "e2bedf0d468b270e"
  },
  {
   "metadata": {
    "ExecuteTime": {
     "end_time": "2025-03-14T08:22:22.578139Z",
     "start_time": "2025-03-14T08:22:22.572502Z"
    }
   },
   "cell_type": "code",
   "source": "RANDOM_STATE = 1337",
   "id": "8c30d654f2d085c6",
   "outputs": [],
   "execution_count": 1
  },
  {
   "metadata": {
    "ExecuteTime": {
     "end_time": "2025-03-12T14:42:27.903291Z",
     "start_time": "2025-03-12T14:42:27.894937Z"
    }
   },
   "cell_type": "code",
   "source": [
    "%%capture\n",
    "!wget https://github.com/yutkin/Lenta.Ru-News-Dataset/releases/download/v1.0/lenta-ru-news.csv.gz"
   ],
   "id": "e27a240d07f0b06d",
   "outputs": [],
   "execution_count": 1
  },
  {
   "metadata": {
    "ExecuteTime": {
     "end_time": "2025-03-13T09:25:13.990760Z",
     "start_time": "2025-03-13T09:24:28.577543Z"
    }
   },
   "cell_type": "code",
   "source": [
    "from corus import load_lenta\n",
    "import pandas as pd\n",
    "\n",
    "path = 'lenta-ru-news.csv.gz'\n",
    "records = load_lenta(\n",
    "    path)\n",
    "\n",
    "data = []\n",
    "for record in records:\n",
    "    if record:  # Убедитесь, что запись не None\n",
    "        data.append({\n",
    "            'title': record.title,\n",
    "            'text': record.text,\n",
    "            'topic': record.topic\n",
    "        })\n",
    "df = pd.DataFrame(data)"
   ],
   "id": "3d7eaeb9159ce797",
   "outputs": [],
   "execution_count": 1
  },
  {
   "metadata": {},
   "cell_type": "markdown",
   "source": "## 2. Подготовка данных",
   "id": "deadb98958c864b2"
  },
  {
   "metadata": {
    "ExecuteTime": {
     "end_time": "2025-03-11T12:40:55.108591Z",
     "start_time": "2025-03-11T12:40:55.064065Z"
    }
   },
   "cell_type": "code",
   "source": "df['topic'].value_counts()",
   "id": "7c5a16c0360a3c6a",
   "outputs": [
    {
     "data": {
      "text/plain": [
       "topic\n",
       "Россия               160519\n",
       "Мир                  136680\n",
       "Экономика             79538\n",
       "Спорт                 64421\n",
       "Культура              53803\n",
       "Бывший СССР           53402\n",
       "Наука и техника       53136\n",
       "Интернет и СМИ        44675\n",
       "Из жизни              27611\n",
       "Дом                   21734\n",
       "Силовые структуры     19596\n",
       "Ценности               7766\n",
       "Бизнес                 7399\n",
       "Путешествия            6408\n",
       "69-я параллель         1268\n",
       "Крым                    666\n",
       "Культпросвет            340\n",
       "                        203\n",
       "Легпром                 114\n",
       "Библиотека               65\n",
       "Оружие                    3\n",
       "ЧМ-2014                   2\n",
       "МедНовости                1\n",
       "Сочи                      1\n",
       "Name: count, dtype: int64"
      ]
     },
     "execution_count": 2,
     "metadata": {},
     "output_type": "execute_result"
    }
   ],
   "execution_count": 2
  },
  {
   "metadata": {
    "ExecuteTime": {
     "end_time": "2025-03-13T09:25:14.087471Z",
     "start_time": "2025-03-13T09:25:13.992582Z"
    }
   },
   "cell_type": "code",
   "source": "df = df[df['topic'].notna() & (df['topic'] != \"\")]",
   "id": "12a8fee1cc235bf8",
   "outputs": [],
   "execution_count": 2
  },
  {
   "metadata": {},
   "cell_type": "markdown",
   "source": "Убираю низкочисленные классификаторы, потому что их влияние будет ровно 0 и количество строк у классификатора, должно быть больше 1.",
   "id": "1d4f8149ca857648"
  },
  {
   "metadata": {
    "ExecuteTime": {
     "end_time": "2025-03-13T09:25:14.201939Z",
     "start_time": "2025-03-13T09:25:14.088586Z"
    }
   },
   "cell_type": "code",
   "source": [
    "topic_counts = df['topic'].value_counts()\n",
    "min_samples = 5\n",
    "class_df = df[df['topic'].isin(topic_counts[topic_counts >= min_samples].index)]\n",
    "\n",
    "class_df['topic'].value_counts()"
   ],
   "id": "a7ded2ef3ad9a616",
   "outputs": [
    {
     "data": {
      "text/plain": [
       "topic\n",
       "Россия               160519\n",
       "Мир                  136680\n",
       "Экономика             79538\n",
       "Спорт                 64421\n",
       "Культура              53803\n",
       "Бывший СССР           53402\n",
       "Наука и техника       53136\n",
       "Интернет и СМИ        44675\n",
       "Из жизни              27611\n",
       "Дом                   21734\n",
       "Силовые структуры     19596\n",
       "Ценности               7766\n",
       "Бизнес                 7399\n",
       "Путешествия            6408\n",
       "69-я параллель         1268\n",
       "Крым                    666\n",
       "Культпросвет            340\n",
       "Легпром                 114\n",
       "Библиотека               65\n",
       "Name: count, dtype: int64"
      ]
     },
     "execution_count": 3,
     "metadata": {},
     "output_type": "execute_result"
    }
   ],
   "execution_count": 3
  },
  {
   "metadata": {},
   "cell_type": "markdown",
   "source": "На данном этапе, после получение accuracy_score 0,82 на тестовой выборке, я захотел проэксперементировать и постараться распределить весы путем попытки равномерного распределения классификаторов и посмотреть как это может улучшить результат после обучения модели.",
   "id": "94d8baf9541cadac"
  },
  {
   "metadata": {
    "ExecuteTime": {
     "end_time": "2025-03-13T09:25:15.118556Z",
     "start_time": "2025-03-13T09:25:14.203207Z"
    }
   },
   "cell_type": "code",
   "source": [
    "import pandas as pd\n",
    "\n",
    "n_classes = class_df['topic'].nunique()\n",
    "target_per_class = 100_000 // n_classes  # Базовый таргет на класс\n",
    "\n",
    "# Собираем данные поровну, не превышая исходное количество\n",
    "balanced_dfs = []\n",
    "for topic in class_df['topic'].unique():\n",
    "    subset = class_df[class_df['topic'] == topic]\n",
    "    if len(subset) > target_per_class:\n",
    "        # Даунсэмплинг для больших классов\n",
    "        balanced_dfs.append(subset.sample(target_per_class, random_state=42))\n",
    "    else:\n",
    "        # Берем все данные для малых классов\n",
    "        balanced_dfs.append(subset)\n",
    "\n",
    "# Собираем и перемешиваем данные\n",
    "balanced_df = pd.concat(balanced_dfs).sample(frac=1, random_state=42).reset_index(drop=True)\n",
    "\n",
    "# Если суммарное количество строк меньше 100K, добавляем недостающее из \"богатых\" классов\n",
    "current_size = len(balanced_df)\n",
    "if current_size < 100_000:\n",
    "    additional_samples = 100_000 - current_size\n",
    "    # Выбираем классы, у которых есть избыток данных\n",
    "    candidates = class_df.groupby('topic').filter(lambda x: len(x) > target_per_class)\n",
    "    # Берем дополнительные образцы (без пересечения с уже выбранными)\n",
    "    additional_df = candidates.sample(n=additional_samples, \n",
    "                                     replace=False, \n",
    "                                     random_state=42)\n",
    "    # Финализируем датафрейм\n",
    "    balanced_df = pd.concat([balanced_df, additional_df]).sample(frac=1, random_state=42).reset_index(drop=True)\n",
    "\n",
    "print(f\"Итоговый размер: {len(balanced_df)} строк\")"
   ],
   "id": "78be54501ece4278",
   "outputs": [
    {
     "name": "stdout",
     "output_type": "stream",
     "text": [
      "Итоговый размер: 100000 строк\n"
     ]
    }
   ],
   "execution_count": 4
  },
  {
   "metadata": {
    "ExecuteTime": {
     "end_time": "2025-03-13T09:25:15.140106Z",
     "start_time": "2025-03-13T09:25:15.119689Z"
    }
   },
   "cell_type": "code",
   "source": "balanced_df['topic'].value_counts()",
   "id": "d2dc6cd64b97f9a5",
   "outputs": [
    {
     "data": {
      "text/plain": [
       "topic\n",
       "Россия               10424\n",
       "Мир                   9712\n",
       "Экономика             7775\n",
       "Спорт                 7364\n",
       "Наука и техника       7031\n",
       "Бывший СССР           6989\n",
       "Культура              6951\n",
       "Интернет и СМИ        6749\n",
       "Из жизни              6171\n",
       "Дом                   5948\n",
       "Силовые структуры     5921\n",
       "Ценности              5527\n",
       "Путешествия           5493\n",
       "Бизнес                5492\n",
       "69-я параллель        1268\n",
       "Крым                   666\n",
       "Культпросвет           340\n",
       "Легпром                114\n",
       "Библиотека              65\n",
       "Name: count, dtype: int64"
      ]
     },
     "execution_count": 5,
     "metadata": {},
     "output_type": "execute_result"
    }
   ],
   "execution_count": 5
  },
  {
   "metadata": {
    "ExecuteTime": {
     "end_time": "2025-03-09T11:03:03.372045Z",
     "start_time": "2025-03-09T11:03:03.364016Z"
    }
   },
   "cell_type": "code",
   "source": "balanced_df",
   "id": "3be4a977de7a7cbb",
   "outputs": [
    {
     "data": {
      "text/plain": [
       "                                                   title  \\\n",
       "0      В подмосковных Химках обстреляли перевозчиков ...   \n",
       "1       Премию Астрид Линдгрен вручили лауреату \"Оскара\"   \n",
       "2      O1 Properties заинтересовалась бизнес-центром ...   \n",
       "3                      «Газпром» приступил к увольнениям   \n",
       "4      Медальон с прядью волос Джейн Остин выставили ...   \n",
       "...                                                  ...   \n",
       "99995           Астрономы обнаружили планетарные тостеры   \n",
       "99996  Спецназовец оказался слишком женственным для Б...   \n",
       "99997                ЕС выделит Гаити 200 миллионов евро   \n",
       "99998         Суд выселил кота из коммунальной квартиры    \n",
       "99999  Капитан испанской сборной готов пропустить мат...   \n",
       "\n",
       "                                                    text              topic  \n",
       "0      Полиция разыскивает напавших с травматическими...  Силовые структуры  \n",
       "1      Лауреатом премии имени Астрид Линдгрен, котору...           Культура  \n",
       "2      Инвесткомпания O1 Properties ведет переговоры ...                Дом  \n",
       "3      «Газпром» в течение года собирается сократить ...          Экономика  \n",
       "4      Британский аукционный дом Dominic Winter выста...           Культура  \n",
       "...                                                  ...                ...  \n",
       "99995  Астрономы предложили объяснение феномену \"разд...    Наука и техника  \n",
       "99996  Бывшему военнослужащему армии США, офицеру вой...           Из жизни  \n",
       "99997  Европейский союз выделит из своего бюджета 200...                Мир  \n",
       "99998  В Кургане суд постановил выселить из коммуналь...           Из жизни  \n",
       "99999  Капитан сборной Испании и мадридского \"Реала\" ...              Спорт  \n",
       "\n",
       "[100000 rows x 3 columns]"
      ],
      "text/html": [
       "<div>\n",
       "<style scoped>\n",
       "    .dataframe tbody tr th:only-of-type {\n",
       "        vertical-align: middle;\n",
       "    }\n",
       "\n",
       "    .dataframe tbody tr th {\n",
       "        vertical-align: top;\n",
       "    }\n",
       "\n",
       "    .dataframe thead th {\n",
       "        text-align: right;\n",
       "    }\n",
       "</style>\n",
       "<table border=\"1\" class=\"dataframe\">\n",
       "  <thead>\n",
       "    <tr style=\"text-align: right;\">\n",
       "      <th></th>\n",
       "      <th>title</th>\n",
       "      <th>text</th>\n",
       "      <th>topic</th>\n",
       "    </tr>\n",
       "  </thead>\n",
       "  <tbody>\n",
       "    <tr>\n",
       "      <th>0</th>\n",
       "      <td>В подмосковных Химках обстреляли перевозчиков ...</td>\n",
       "      <td>Полиция разыскивает напавших с травматическими...</td>\n",
       "      <td>Силовые структуры</td>\n",
       "    </tr>\n",
       "    <tr>\n",
       "      <th>1</th>\n",
       "      <td>Премию Астрид Линдгрен вручили лауреату \"Оскара\"</td>\n",
       "      <td>Лауреатом премии имени Астрид Линдгрен, котору...</td>\n",
       "      <td>Культура</td>\n",
       "    </tr>\n",
       "    <tr>\n",
       "      <th>2</th>\n",
       "      <td>O1 Properties заинтересовалась бизнес-центром ...</td>\n",
       "      <td>Инвесткомпания O1 Properties ведет переговоры ...</td>\n",
       "      <td>Дом</td>\n",
       "    </tr>\n",
       "    <tr>\n",
       "      <th>3</th>\n",
       "      <td>«Газпром» приступил к увольнениям</td>\n",
       "      <td>«Газпром» в течение года собирается сократить ...</td>\n",
       "      <td>Экономика</td>\n",
       "    </tr>\n",
       "    <tr>\n",
       "      <th>4</th>\n",
       "      <td>Медальон с прядью волос Джейн Остин выставили ...</td>\n",
       "      <td>Британский аукционный дом Dominic Winter выста...</td>\n",
       "      <td>Культура</td>\n",
       "    </tr>\n",
       "    <tr>\n",
       "      <th>...</th>\n",
       "      <td>...</td>\n",
       "      <td>...</td>\n",
       "      <td>...</td>\n",
       "    </tr>\n",
       "    <tr>\n",
       "      <th>99995</th>\n",
       "      <td>Астрономы обнаружили планетарные тостеры</td>\n",
       "      <td>Астрономы предложили объяснение феномену \"разд...</td>\n",
       "      <td>Наука и техника</td>\n",
       "    </tr>\n",
       "    <tr>\n",
       "      <th>99996</th>\n",
       "      <td>Спецназовец оказался слишком женственным для Б...</td>\n",
       "      <td>Бывшему военнослужащему армии США, офицеру вой...</td>\n",
       "      <td>Из жизни</td>\n",
       "    </tr>\n",
       "    <tr>\n",
       "      <th>99997</th>\n",
       "      <td>ЕС выделит Гаити 200 миллионов евро</td>\n",
       "      <td>Европейский союз выделит из своего бюджета 200...</td>\n",
       "      <td>Мир</td>\n",
       "    </tr>\n",
       "    <tr>\n",
       "      <th>99998</th>\n",
       "      <td>Суд выселил кота из коммунальной квартиры</td>\n",
       "      <td>В Кургане суд постановил выселить из коммуналь...</td>\n",
       "      <td>Из жизни</td>\n",
       "    </tr>\n",
       "    <tr>\n",
       "      <th>99999</th>\n",
       "      <td>Капитан испанской сборной готов пропустить мат...</td>\n",
       "      <td>Капитан сборной Испании и мадридского \"Реала\" ...</td>\n",
       "      <td>Спорт</td>\n",
       "    </tr>\n",
       "  </tbody>\n",
       "</table>\n",
       "<p>100000 rows × 3 columns</p>\n",
       "</div>"
      ]
     },
     "execution_count": 9,
     "metadata": {},
     "output_type": "execute_result"
    }
   ],
   "execution_count": 9
  },
  {
   "metadata": {},
   "cell_type": "markdown",
   "source": "Решил проверить текст на html разметку и пробежаться по результату, что бы подобрать оптимальные паттерны для обработки текста",
   "id": "58240bc7aac76191"
  },
  {
   "metadata": {
    "ExecuteTime": {
     "end_time": "2025-03-05T18:41:56.143570Z",
     "start_time": "2025-03-05T18:41:55.390387Z"
    }
   },
   "cell_type": "code",
   "source": [
    "import re\n",
    "\n",
    "def check_html_in_column(dframe: pd.DataFrame, column: str, sample_size: int = 5) -> dict:\n",
    "    \"\"\"\n",
    "    Анализирует колонку DataFrame на наличие HTML-тегов\n",
    "    \"\"\"\n",
    "    html_pattern = re.compile(r'<[^>]+>')\n",
    "    \n",
    "    mask = dframe[column].apply(\n",
    "        lambda x: bool(html_pattern.search(str(x))) if pd.notnull(x) else False\n",
    "    )\n",
    "    \n",
    "    total_rows = len(df)\n",
    "    html_rows = mask.sum()\n",
    "    \n",
    "    result = {\n",
    "        'total_rows': total_rows,\n",
    "        'html_rows': html_rows,\n",
    "        'html_percent': round(html_rows / total_rows * 100, 2) if total_rows > 0 else 0,\n",
    "        'examples': dframe[column][mask].sample(min(sample_size, html_rows)).tolist() if html_rows > 0 else []\n",
    "    }\n",
    "    \n",
    "    if result['html_rows'] > 0:\n",
    "        print(\"\\nПримеры строк с HTML:\")\n",
    "        for example in result['examples']:\n",
    "            print(f\"- {example}...\")\n",
    "\n",
    "check_html_in_column(df, 'text', sample_size=3)"
   ],
   "id": "64a9902ceea11ea",
   "outputs": [
    {
     "name": "stdout",
     "output_type": "stream",
     "text": [
      "\n",
      "Примеры строк с HTML:\n",
      "- Реальная доходность по банковским депозитам россиян в 2011 году будет отрицательной, если рост кредитных портфелей отечественных банков не превысит 5-7 процентов в год. Такое заявление сделал заместитель гендиректора Агентства по страхованию вкладов (АСВ) Андрей Мельников, передает \"Интерфакс\". По всей видимости, Мельников имел в виду отрицательную доходность с учетом инфляции. По словам Мельникова, в случае низкой кредитной активности банки не смогут компенсировать высокие ставки по вкладам, и, следовательно, им придется эти ставки снижать. В то же время в АСВ ожидают, что даже в таких условиях подавляющее большинство населения продолжит \"нести деньги в банки\". За первые шесть месяцев 2010 года объем вкладов россиян увеличился на 12,7 процента и превысил 8,4 триллиона рублей. 25 августа в ЦБ сообщили, что за июль объем депозитов населения в банках России вырос на 2,1 процента и составил более 8,6 триллиона рублей. Согласно прогнозу АСВ, рост вкладов физических лиц в российских кредитных организациях в 2010 году составит 25,5-29,5 процента. Мельников также пояснил, что в настоящий момент вероятность банкротства среднестатистического российского банка даже ниже, чем до кризиса. \"В этом году у нас пока всего шесть страховых случаев <...> выплаты по этим шести случаям составили 450 миллионов рублей против 15,5 миллиарда рублей в острой фазе кризиса. Поэтому сейчас в банковской системе гораздо спокойнее, чем даже в докризисном 2007 году\", - передает РИА Новости слова замгендиректора АСВ....\n",
      "- Пенсионный фонд России (ПФР) будет отслеживать трудовые договоры россиян с помощью технологии блокчейн. Предложения по объединению всех информационных систем фонда в единую цифровую платформу приготовят до конца года. Об этом «Известиям» сообщили в пресс-службе ПФР. При устройстве на работу договор будет заключаться в электронном виде и подтверждаться цифровой подписью. Таким образом, все договоренности будут зафиксированы, а возможность вносить правки будет исключена. «Внедрение смарт-контрактов в трудовые отношения позволит в будущем отказаться от обязательного заключения их в бумажном виде, но иметь о них информацию в любой момент времени, как это сегодня происходит с правом на недвижимость», — заявили в пресс-службе ПФР. Фонд планирует сократить расходы на хранение и обслуживание большого объема данных. «Цифровая платформа ПФР должна стать агрегатором цифровых сервисов в области социального обеспечения населения. <...> [Она] должна, с одной стороны, существенно снизить трансакционные издержки фонда, а с другой — обеспечить его проактивное развитие в условиях цифровизации российской экономики», — отметила пресс-служба. Ранее в июне глава правительства Дмитрий Медведев пояснил, что переход на цифровые трудовые книжки будет постепенным и начнет работать только с 2020 года....\n",
      "- Российская фигуристка Евгения Медведева в интервью YouTube-каналу John Wilson Blades рассказала, в чем разница между Россией и Канадой. «В первую очередь для меня необычно, что все люди здесь практически всегда улыбаются. Когда ты встречаешь кого-то, то тебя обязательно спрашивают: \"Как дела? Как твой день?\". Первое время я не понимала: \"Почему вы у меня все это спрашиваете?\". Это очень необычно. Но я думаю, что это даже лучше для развития, для тренировок. Здесь гораздо спокойнее. Это хорошо», — сказала Медведева. Фигуристка также поделилась впечатлениями от тренировок под руководством нового тренера Брайана Орсера. «Все отличается друг от друга по сравнению с Россией. <...>. Но тренировки с Орсером оставляют позитивное впечатление. Он постоянно просит меня успокоиться», — отметила спортсменка. Медведева прекратила сотрудничество с тренером Этери Тутберидзе в мае 2018-го. После этого фигуристка переехала в Торонто для работы с Орсером. По словам Тутберидзе, до Олимпийских игр-2018 Медведева просила оставить на тот момент 15-летнюю Алину Загитову в юниорах еще на год. В Пхенчхане спортсменка стала обладательницей двух серебряных наград. Золото в женском одиночном катании завоевала Загитова....\n"
     ]
    }
   ],
   "execution_count": 3
  },
  {
   "metadata": {},
   "cell_type": "markdown",
   "source": [
    "Для работы с venv\n",
    "\n",
    "cd ~/.virtualenvs/csu_nlp_course_hw_1\n",
    "\n",
    "source bin/activate\n",
    "\n",
    "python -m spacy download ru_core_news_sm\n",
    "\n",
    "pip install lxml"
   ],
   "id": "ff28a4a38612b53c"
  },
  {
   "metadata": {},
   "cell_type": "code",
   "outputs": [],
   "execution_count": null,
   "source": "!python3 -m spacy download ru_core_news_sm",
   "id": "d51e16a7c2fadefd"
  },
  {
   "metadata": {
    "ExecuteTime": {
     "end_time": "2025-03-13T09:25:34.443808Z",
     "start_time": "2025-03-13T09:25:33.006839Z"
    }
   },
   "cell_type": "code",
   "source": [
    "import pandas as pd\n",
    "import spacy\n",
    "import re\n",
    "from tqdm.notebook import tqdm\n",
    "from concurrent.futures import ThreadPoolExecutor, as_completed\n",
    "\n",
    "class TextProcessing:\n",
    "    def __init__(self, batch_size=100, n_threads=8):\n",
    "        self.batch_size = batch_size\n",
    "        self.n_threads = n_threads\n",
    "        self.nlp = spacy.load(\"ru_core_news_sm\", disable=[\"parser\", \"ner\"])\n",
    "\n",
    "    def _clean_text(self, text):\n",
    "        # Удаляем знаки препинания и цифры\n",
    "        return re.sub(r'[^\\w\\s]', ' ', text)\n",
    "\n",
    "    def _process_batch(self, texts):\n",
    "        cleaned_texts = [self._clean_text(text) for text in texts]\n",
    "        lemmatized_texts = []\n",
    "\n",
    "        for doc in self.nlp.pipe(cleaned_texts, batch_size=self.batch_size):\n",
    "            lemmas = [token.lemma_ for token in doc if not token.is_stop and not token.is_punct and token.is_alpha]\n",
    "            lemmatized_texts.append(' '.join(lemmas))\n",
    "\n",
    "        return lemmatized_texts\n",
    "\n",
    "    def process_texts(self, text_series: pd.Series) -> pd.Series:\n",
    "        texts = text_series.tolist()\n",
    "        total = len(texts)\n",
    "        batch_size = self.batch_size\n",
    "\n",
    "        results = [None] * total\n",
    "\n",
    "        def process_and_store(start_idx, end_idx):\n",
    "            batch = texts[start_idx:end_idx]\n",
    "            processed_batch = self._process_batch(batch)\n",
    "            return start_idx, processed_batch\n",
    "\n",
    "        futures = []\n",
    "        with ThreadPoolExecutor(max_workers=self.n_threads) as executor:\n",
    "            for start_idx in range(0, total, batch_size):\n",
    "                end_idx = min(start_idx + batch_size, total)\n",
    "                futures.append(executor.submit(process_and_store, start_idx, end_idx))\n",
    "\n",
    "            with tqdm(total=len(futures), desc=\"Processing batches\", leave=True) as pbar:\n",
    "                for future in as_completed(futures):\n",
    "                    start_idx, processed_batch = future.result()\n",
    "                    results[start_idx:start_idx+len(processed_batch)] = processed_batch\n",
    "                    pbar.update(1)\n",
    "\n",
    "        return pd.Series(results, index=text_series.index)\n",
    "    \n",
    "    \n",
    "# df_head = balanced_df.head(2000).copy()\n",
    "# processor = TextProcessing(batch_size=200, n_threads=4)\n",
    "# df_head[\"processed_text\"] = processor.process_texts(df_head[\"text\"])\n",
    "# balanced_df[\"processed_text\"] = processor.process_texts(balanced_df[\"text\"])"
   ],
   "id": "e4931cfe973d7030",
   "outputs": [],
   "execution_count": 6
  },
  {
   "metadata": {},
   "cell_type": "markdown",
   "source": "Второй вариант обработки текста чуть улучшенный.",
   "id": "cb9088d4a4e59ae6"
  },
  {
   "metadata": {
    "ExecuteTime": {
     "end_time": "2025-03-11T11:49:51.269979Z",
     "start_time": "2025-03-11T11:49:25.107074Z"
    }
   },
   "cell_type": "code",
   "source": "!python3 -m spacy download ru_core_news_lg",
   "id": "dd117060fe89e891",
   "outputs": [
    {
     "name": "stdout",
     "output_type": "stream",
     "text": [
      "/bin/bash: warning: setlocale: LC_ALL: cannot change locale (en_US.UTF-8)\r\n",
      "Defaulting to user installation because normal site-packages is not writeable\r\n",
      "Collecting ru-core-news-lg==3.8.0\r\n",
      "  Downloading https://github.com/explosion/spacy-models/releases/download/ru_core_news_lg-3.8.0/ru_core_news_lg-3.8.0-py3-none-any.whl (513.4 MB)\r\n",
      "\u001B[2K     \u001B[90m━━━━━━━━━━━━━━━━━━━━━━━━━━━━━━━━━━━━━━\u001B[0m \u001B[32m513.4/513.4 MB\u001B[0m \u001B[31m24.2 MB/s\u001B[0m eta \u001B[36m0:00:00\u001B[0m00:01\u001B[0m00:01\u001B[0m\r\n",
      "\u001B[?25hRequirement already satisfied: pymorphy3>=1.0.0 in /home/parcart/.local/lib/python3.10/site-packages (from ru-core-news-lg==3.8.0) (2.0.3)\r\n",
      "Requirement already satisfied: dawg2-python>=0.8.0 in /home/parcart/.local/lib/python3.10/site-packages (from pymorphy3>=1.0.0->ru-core-news-lg==3.8.0) (0.9.0)\r\n",
      "Requirement already satisfied: pymorphy3-dicts-ru in /home/parcart/.local/lib/python3.10/site-packages (from pymorphy3>=1.0.0->ru-core-news-lg==3.8.0) (2.4.417150.4580142)\r\n",
      "Requirement already satisfied: typing-extensions>=4.0 in /home/parcart/.local/lib/python3.10/site-packages (from dawg2-python>=0.8.0->pymorphy3>=1.0.0->ru-core-news-lg==3.8.0) (4.12.2)\r\n",
      "Installing collected packages: ru-core-news-lg\r\n",
      "Successfully installed ru-core-news-lg-3.8.0\r\n",
      "\u001B[38;5;2m✔ Download and installation successful\u001B[0m\r\n",
      "You can now load the package via spacy.load('ru_core_news_lg')\r\n"
     ]
    }
   ],
   "execution_count": 11
  },
  {
   "metadata": {
    "ExecuteTime": {
     "end_time": "2025-03-13T09:28:14.126807Z",
     "start_time": "2025-03-13T09:28:09.638841Z"
    }
   },
   "cell_type": "code",
   "source": [
    "import pandas as pd\n",
    "import spacy\n",
    "import re\n",
    "from tqdm.notebook import tqdm\n",
    "from concurrent.futures import ThreadPoolExecutor, as_completed\n",
    "\n",
    "class TextProcessingUpgrade(TextProcessing):\n",
    "    def __init__(self, batch_size=100, n_threads=8):\n",
    "        super().__init__(batch_size, n_threads)\n",
    "        if spacy.prefer_gpu():\n",
    "            print(\"✅ Используется GPU\")\n",
    "        else:\n",
    "            print(\"⚠️ GPU не доступен, используется CPU\")\n",
    "        self.nlp = spacy.load(\"ru_core_news_lg\", disable=[\"parser\", \"ner\"])\n",
    "        self.nlp.enable_pipe(\"senter\")\n",
    "        self.nlp.select_pipes(enable=[\"tok2vec\", \"tagger\", \"lemmatizer\"])\n",
    "\n",
    "    def _clean_text(self, text):\n",
    "        text = text.lower()\n",
    "        \n",
    "        # Обрабатываем дефисы в составных словах\n",
    "        text = re.sub(r'(?<=[а-яё])(-)(?=[а-яё])', ' ', text)\n",
    "        \n",
    "        # Удаляем все символы кроме букв и пробелов\n",
    "        text = re.sub(r'[^а-яё\\s]', ' ', text)\n",
    "        \n",
    "        # Удаляем одиночные буквы и цифры\n",
    "        text = re.sub(r'\\s[а-яё]\\s', ' ', text)\n",
    "        \n",
    "        # Сжимаем множественные пробелы\n",
    "        text = re.sub(r'\\s+', ' ', text).strip()\n",
    "        \n",
    "        return text\n",
    "    \n",
    "    \n",
    "# df_head = balanced_df.head(2000).copy()\n",
    "processor = TextProcessingUpgrade(batch_size=200, n_threads=6)\n",
    "# df_head[\"processed_text\"] = processor.process_texts(df_head[\"text\"])\n",
    "# df_head"
   ],
   "id": "625570d51d4a7e3d",
   "outputs": [
    {
     "name": "stdout",
     "output_type": "stream",
     "text": [
      "✅ Используется GPU\n"
     ]
    }
   ],
   "execution_count": 7
  },
  {
   "metadata": {
    "ExecuteTime": {
     "end_time": "2025-03-13T09:55:27.109468Z",
     "start_time": "2025-03-13T09:28:23.833964Z"
    }
   },
   "cell_type": "code",
   "source": [
    "balanced_df[\"processed_text\"] = processor.process_texts(balanced_df[\"text\"])\n",
    "balanced_df[\"processed_title\"] = processor.process_texts(balanced_df[\"title\"])\n",
    "balanced_df.loc[:, 'processed_full_text'] = balanced_df['processed_text'].astype(str) + ' ' +balanced_df['processed_title'].astype(str)\n",
    "balanced_df.drop(columns=[\"title\", \"text\", \"processed_text\", \"processed_title\"], inplace=True)\n",
    "balanced_df.to_csv(\"processed_balanced_text.csv\", index=False, encoding='utf-8')"
   ],
   "id": "a01f6a233ad97fee",
   "outputs": [
    {
     "data": {
      "text/plain": [
       "Processing batches:   0%|          | 0/500 [00:00<?, ?it/s]"
      ],
      "application/vnd.jupyter.widget-view+json": {
       "version_major": 2,
       "version_minor": 0,
       "model_id": "dda180425d8f441d94c66cf1413fff21"
      }
     },
     "metadata": {},
     "output_type": "display_data"
    },
    {
     "data": {
      "text/plain": [
       "Processing batches:   0%|          | 0/500 [00:00<?, ?it/s]"
      ],
      "application/vnd.jupyter.widget-view+json": {
       "version_major": 2,
       "version_minor": 0,
       "model_id": "6abd4b4b1d3748489ce20984cc78f13c"
      }
     },
     "metadata": {},
     "output_type": "display_data"
    }
   ],
   "execution_count": 8
  },
  {
   "metadata": {},
   "cell_type": "markdown",
   "source": [
    "### Разбор pipeline\n",
    "\n",
    "Начать все же хотелось с того, что одно слово из за склонений может иметь множество вариаций, которые могут запутать алгоритм, ведь тогда в его словаре будет допустим 3 слова вместо одного. Для того что бы исправить эту проблему я выбрал библиотеку `spacy `и модель `ru_core_news_sm`, к сожалению мне не удалось установить `spacy[cuda]` и пришлось работать на процессоре, в результате для ускорения производительности был выбран `spacy.pipe` для обработки сразу списка, для ускорения обработка Series запускается в много потоке и на каждый поток выделяется определенный размер batсh что позволило в 3-4 раза ускорить обработку. Для того что бы оптимизировать и ускорить работу лематтизатора, текст был очищен от лишних знаков. В результате чего появился явный минус, что названия компаний или имена разделяются на разные слова, но я и так опаздываю и потратил очень много времени на оптимизацию процесса обработки текста, я не успеваю(.    "
   ],
   "id": "579435e2871b64cc"
  },
  {
   "metadata": {
    "ExecuteTime": {
     "end_time": "2025-03-13T10:24:36.804780Z",
     "start_time": "2025-03-13T09:57:01.100854Z"
    }
   },
   "cell_type": "code",
   "source": [
    "from sklearn.model_selection import train_test_split\n",
    "\n",
    "100000 / len(class_df)\n",
    "split_df, empty_df = train_test_split(\n",
    "    class_df, train_size=100000 / len(class_df), stratify=class_df['topic'], random_state=RANDOM_STATE\n",
    ")\n",
    "\n",
    "empty_df = pd.DataFrame()\n",
    "\n",
    "print(len(split_df))\n",
    "\n",
    "split_df[\"processed_text\"] = processor.process_texts(split_df[\"text\"])\n",
    "split_df[\"processed_title\"] = processor.process_texts(split_df[\"title\"])\n",
    "split_df.loc[:, 'processed_full_text'] = split_df['processed_text'].astype(str) + ' ' + split_df['processed_title'].astype(str)\n",
    "split_df.drop(columns=[\"title\", \"text\", \"processed_text\", \"processed_title\"], inplace=True)\n",
    "split_df.to_csv(\"processed_split_df.csv\", index=False, encoding='utf-8')"
   ],
   "id": "4096d98d80825ed8",
   "outputs": [
    {
     "name": "stdout",
     "output_type": "stream",
     "text": [
      "100000\n"
     ]
    },
    {
     "data": {
      "text/plain": [
       "Processing batches:   0%|          | 0/500 [00:00<?, ?it/s]"
      ],
      "application/vnd.jupyter.widget-view+json": {
       "version_major": 2,
       "version_minor": 0,
       "model_id": "bc639474abcf4f1b947414f63fc303bb"
      }
     },
     "metadata": {},
     "output_type": "display_data"
    },
    {
     "data": {
      "text/plain": [
       "Processing batches:   0%|          | 0/500 [00:00<?, ?it/s]"
      ],
      "application/vnd.jupyter.widget-view+json": {
       "version_major": 2,
       "version_minor": 0,
       "model_id": "57b4bfefdfd24b9fa89396a48089bcbc"
      }
     },
     "metadata": {},
     "output_type": "display_data"
    }
   ],
   "execution_count": 10
  },
  {
   "metadata": {
    "ExecuteTime": {
     "end_time": "2025-03-11T13:06:50.604642Z",
     "start_time": "2025-03-11T13:06:50.583838Z"
    }
   },
   "cell_type": "code",
   "source": "split_df['topic'].value_counts()",
   "id": "66f2f4de23547893",
   "outputs": [
    {
     "data": {
      "text/plain": [
       "topic\n",
       "Россия               21711\n",
       "Мир                  18487\n",
       "Экономика            10758\n",
       "Спорт                 8713\n",
       "Культура              7277\n",
       "Бывший СССР           7223\n",
       "Наука и техника       7187\n",
       "Интернет и СМИ        6043\n",
       "Из жизни              3735\n",
       "Дом                   2940\n",
       "Силовые структуры     2650\n",
       "Ценности              1050\n",
       "Бизнес                1001\n",
       "Путешествия            867\n",
       "69-я параллель         171\n",
       "Крым                    90\n",
       "Культпросвет            46\n",
       "EMPTY                   27\n",
       "Легпром                 15\n",
       "Библиотека               9\n",
       "Name: count, dtype: int64"
      ]
     },
     "execution_count": 10,
     "metadata": {},
     "output_type": "execute_result"
    }
   ],
   "execution_count": 10
  },
  {
   "metadata": {},
   "cell_type": "markdown",
   "source": "Импортирование обработанных датасетов",
   "id": "6dc489f76c59aeb2"
  },
  {
   "metadata": {
    "ExecuteTime": {
     "end_time": "2025-03-14T08:22:32.251404Z",
     "start_time": "2025-03-14T08:22:27.172489Z"
    }
   },
   "cell_type": "code",
   "source": [
    "import pandas as pd\n",
    "balanced_df = pd.read_csv(\"processed_balanced_text.csv\", encoding='utf-8')\n",
    "split_df = pd.read_csv(\"processed_split_df.csv\", encoding='utf-8')"
   ],
   "id": "ea9b705eec5daf5",
   "outputs": [],
   "execution_count": 2
  },
  {
   "metadata": {},
   "cell_type": "markdown",
   "source": "Объединяем обработанный текст. И собираем словарь фреймов для удобства.",
   "id": "dfbd72a2dad0c6a4"
  },
  {
   "metadata": {
    "ExecuteTime": {
     "end_time": "2025-03-11T11:13:22.196556Z",
     "start_time": "2025-03-11T11:13:22.184693Z"
    }
   },
   "cell_type": "code",
   "source": "balanced_df",
   "id": "ce6d186b835dfad1",
   "outputs": [
    {
     "data": {
      "text/plain": [
       "                                                   title  \\\n",
       "0      Руководителям \"Эха Москвы\" и \"Газпрома\" некогд...   \n",
       "1               Китайцев будут кормить пищей тайконавтов   \n",
       "2      АИЖК прогнозирует сокращение объемов ипотеки в...   \n",
       "3      Магазины заставят принимать к оплате банковски...   \n",
       "4      Филин потребовал от обвиняемых в нападении 3,5...   \n",
       "...                                                  ...   \n",
       "99995  Aegean распродаст билеты в Грецию с 30-процент...   \n",
       "99996  В Москве стали активнее покупать квартиры экон...   \n",
       "99997  Слияние алюминиевых гигантов проконтролирует п...   \n",
       "99998  Глянцевый журнал поместил на обложку татуирова...   \n",
       "99999  Греко-католикам пригрозили судом за часовню на...   \n",
       "\n",
       "                                                    text           topic  \\\n",
       "0      Переговоры руководства \"Эха Москвы\" с компание...  Интернет и СМИ   \n",
       "1      Китайцы вскоре смогут питаться, как тайконавты...             Мир   \n",
       "2      В 2009 году объем ипотечного кредитования суще...             Дом   \n",
       "3      Российские парламентарии готовятся весной внес...       Экономика   \n",
       "4      Художественный руководитель балетной труппы Бо...          Россия   \n",
       "...                                                  ...             ...   \n",
       "99995  Авиакомпания Aegean Airlines начала распродажу...     Путешествия   \n",
       "99996  В октябре 2012 года на рынке жилья эконом-клас...             Дом   \n",
       "99997  Депутат Госдумы от \"Единой России\" и председат...       Экономика   \n",
       "99998  Глянцевый журнал CR Men's Book поместил на обл...        Ценности   \n",
       "99999  Министерство культуры пригрозило подать в суд ...     Бывший СССР   \n",
       "\n",
       "                                          processed_text  \\\n",
       "0      переговоры руководство эхо москва компания газ...   \n",
       "1      китаец вскоре питаться тайконавты космический ...   \n",
       "2      год объём ипотечный кредитование существенно с...   \n",
       "3      российский парламентарий готовиться весна внес...   \n",
       "4      художественный руководитель балетный труппа бо...   \n",
       "...                                                  ...   \n",
       "99995  авиакомпания aegean airlines распродажа билет ...   \n",
       "99996  октябрь год рынок жильё эконом класс москва за...   \n",
       "99997  депутат госдума единый россия председатель ком...   \n",
       "99998  глянцевый журнал cr men s book поместить облож...   \n",
       "99999  министерство культура пригрозить подать суд ук...   \n",
       "\n",
       "                                         processed_title  \n",
       "0       руководитель эхо москва газпром вести переговоры  \n",
       "1                        китаец кормить пища тайконавтов  \n",
       "2      аижк прогнозировать сокращение объём ипотека ч...  \n",
       "3      магазин заставить принимать оплата банковский ...  \n",
       "4      филин потребовать обвинять нападение миллион р...  \n",
       "...                                                  ...  \n",
       "99995   aegean распродать билет греция процентный скидка  \n",
       "99996     москва активный покупать квартира эконом класс  \n",
       "99997  слияние алюминиевый гигант проконтролировать п...  \n",
       "99998  глянцевый журнал поместить обложка татуированн...  \n",
       "99999      Греко католикам пригрозить суд часовня майдан  \n",
       "\n",
       "[100000 rows x 5 columns]"
      ],
      "text/html": [
       "<div>\n",
       "<style scoped>\n",
       "    .dataframe tbody tr th:only-of-type {\n",
       "        vertical-align: middle;\n",
       "    }\n",
       "\n",
       "    .dataframe tbody tr th {\n",
       "        vertical-align: top;\n",
       "    }\n",
       "\n",
       "    .dataframe thead th {\n",
       "        text-align: right;\n",
       "    }\n",
       "</style>\n",
       "<table border=\"1\" class=\"dataframe\">\n",
       "  <thead>\n",
       "    <tr style=\"text-align: right;\">\n",
       "      <th></th>\n",
       "      <th>title</th>\n",
       "      <th>text</th>\n",
       "      <th>topic</th>\n",
       "      <th>processed_text</th>\n",
       "      <th>processed_title</th>\n",
       "    </tr>\n",
       "  </thead>\n",
       "  <tbody>\n",
       "    <tr>\n",
       "      <th>0</th>\n",
       "      <td>Руководителям \"Эха Москвы\" и \"Газпрома\" некогд...</td>\n",
       "      <td>Переговоры руководства \"Эха Москвы\" с компание...</td>\n",
       "      <td>Интернет и СМИ</td>\n",
       "      <td>переговоры руководство эхо москва компания газ...</td>\n",
       "      <td>руководитель эхо москва газпром вести переговоры</td>\n",
       "    </tr>\n",
       "    <tr>\n",
       "      <th>1</th>\n",
       "      <td>Китайцев будут кормить пищей тайконавтов</td>\n",
       "      <td>Китайцы вскоре смогут питаться, как тайконавты...</td>\n",
       "      <td>Мир</td>\n",
       "      <td>китаец вскоре питаться тайконавты космический ...</td>\n",
       "      <td>китаец кормить пища тайконавтов</td>\n",
       "    </tr>\n",
       "    <tr>\n",
       "      <th>2</th>\n",
       "      <td>АИЖК прогнозирует сокращение объемов ипотеки в...</td>\n",
       "      <td>В 2009 году объем ипотечного кредитования суще...</td>\n",
       "      <td>Дом</td>\n",
       "      <td>год объём ипотечный кредитование существенно с...</td>\n",
       "      <td>аижк прогнозировать сокращение объём ипотека ч...</td>\n",
       "    </tr>\n",
       "    <tr>\n",
       "      <th>3</th>\n",
       "      <td>Магазины заставят принимать к оплате банковски...</td>\n",
       "      <td>Российские парламентарии готовятся весной внес...</td>\n",
       "      <td>Экономика</td>\n",
       "      <td>российский парламентарий готовиться весна внес...</td>\n",
       "      <td>магазин заставить принимать оплата банковский ...</td>\n",
       "    </tr>\n",
       "    <tr>\n",
       "      <th>4</th>\n",
       "      <td>Филин потребовал от обвиняемых в нападении 3,5...</td>\n",
       "      <td>Художественный руководитель балетной труппы Бо...</td>\n",
       "      <td>Россия</td>\n",
       "      <td>художественный руководитель балетный труппа бо...</td>\n",
       "      <td>филин потребовать обвинять нападение миллион р...</td>\n",
       "    </tr>\n",
       "    <tr>\n",
       "      <th>...</th>\n",
       "      <td>...</td>\n",
       "      <td>...</td>\n",
       "      <td>...</td>\n",
       "      <td>...</td>\n",
       "      <td>...</td>\n",
       "    </tr>\n",
       "    <tr>\n",
       "      <th>99995</th>\n",
       "      <td>Aegean распродаст билеты в Грецию с 30-процент...</td>\n",
       "      <td>Авиакомпания Aegean Airlines начала распродажу...</td>\n",
       "      <td>Путешествия</td>\n",
       "      <td>авиакомпания aegean airlines распродажа билет ...</td>\n",
       "      <td>aegean распродать билет греция процентный скидка</td>\n",
       "    </tr>\n",
       "    <tr>\n",
       "      <th>99996</th>\n",
       "      <td>В Москве стали активнее покупать квартиры экон...</td>\n",
       "      <td>В октябре 2012 года на рынке жилья эконом-клас...</td>\n",
       "      <td>Дом</td>\n",
       "      <td>октябрь год рынок жильё эконом класс москва за...</td>\n",
       "      <td>москва активный покупать квартира эконом класс</td>\n",
       "    </tr>\n",
       "    <tr>\n",
       "      <th>99997</th>\n",
       "      <td>Слияние алюминиевых гигантов проконтролирует п...</td>\n",
       "      <td>Депутат Госдумы от \"Единой России\" и председат...</td>\n",
       "      <td>Экономика</td>\n",
       "      <td>депутат госдума единый россия председатель ком...</td>\n",
       "      <td>слияние алюминиевый гигант проконтролировать п...</td>\n",
       "    </tr>\n",
       "    <tr>\n",
       "      <th>99998</th>\n",
       "      <td>Глянцевый журнал поместил на обложку татуирова...</td>\n",
       "      <td>Глянцевый журнал CR Men's Book поместил на обл...</td>\n",
       "      <td>Ценности</td>\n",
       "      <td>глянцевый журнал cr men s book поместить облож...</td>\n",
       "      <td>глянцевый журнал поместить обложка татуированн...</td>\n",
       "    </tr>\n",
       "    <tr>\n",
       "      <th>99999</th>\n",
       "      <td>Греко-католикам пригрозили судом за часовню на...</td>\n",
       "      <td>Министерство культуры пригрозило подать в суд ...</td>\n",
       "      <td>Бывший СССР</td>\n",
       "      <td>министерство культура пригрозить подать суд ук...</td>\n",
       "      <td>Греко католикам пригрозить суд часовня майдан</td>\n",
       "    </tr>\n",
       "  </tbody>\n",
       "</table>\n",
       "<p>100000 rows × 5 columns</p>\n",
       "</div>"
      ]
     },
     "execution_count": 2,
     "metadata": {},
     "output_type": "execute_result"
    }
   ],
   "execution_count": 2
  },
  {
   "metadata": {
    "ExecuteTime": {
     "end_time": "2025-03-14T08:22:32.888480Z",
     "start_time": "2025-03-14T08:22:32.253759Z"
    }
   },
   "cell_type": "code",
   "source": [
    "from sklearn.model_selection import train_test_split\n",
    "\n",
    "df_balanced_cleaned = balanced_df.loc[~balanced_df['topic'].isin(['EMPTY', 'Библиотека', \"Легпром\"])].copy()\n",
    "df_split_cleaned = split_df.loc[~split_df['topic'].isin(['EMPTY', 'Библиотека', \"Легпром\"])].copy()\n",
    "\n",
    "\n",
    "data_dfs = {\n",
    "    \"balanced_df\" : {\"df\": balanced_df},\n",
    "    \"split_df\" : {\"df\": split_df},\n",
    "    \"df_balanced_cleaned\" : {\"df\": df_balanced_cleaned},\n",
    "    \"df_split_cleaned\" : {\"df\": df_split_cleaned}\n",
    "}\n",
    "\n",
    "for name, data in data_dfs.items():\n",
    "    frame = data[\"df\"]\n",
    "\n",
    "    train_df, temp_df = train_test_split(\n",
    "        frame, test_size=0.4, stratify=frame['topic']\n",
    "    )\n",
    "    \n",
    "    val_df, test_df = train_test_split(\n",
    "        temp_df, test_size=0.5, stratify=temp_df['topic']\n",
    "    )\n",
    "    \n",
    "    data[\"train_df\"] = train_df\n",
    "    data[\"val_df\"] = val_df\n",
    "    data[\"test_df\"] = test_df\n"
   ],
   "id": "b4decedb0f9c14cd",
   "outputs": [],
   "execution_count": 3
  },
  {
   "metadata": {
    "ExecuteTime": {
     "end_time": "2025-03-14T08:22:33.148351Z",
     "start_time": "2025-03-14T08:22:33.040369Z"
    }
   },
   "cell_type": "code",
   "source": [
    "from sklearn.dummy import DummyClassifier\n",
    "from sklearn.metrics import accuracy_score\n",
    "\n",
    "for name, data in data_dfs.items():\n",
    "    \n",
    "    train_df = data[\"train_df\"]\n",
    "    val_df = data[\"val_df\"]\n",
    "\n",
    "    X_train = train_df['processed_full_text']\n",
    "    y_train = train_df['topic']\n",
    "    \n",
    "    X_val = val_df['processed_full_text']\n",
    "    y_val = val_df['topic']\n",
    "    \n",
    "    dummy_clf = DummyClassifier(strategy=\"most_frequent\", random_state=42)\n",
    "    dummy_clf.fit(X_train, y_train)\n",
    "    y_val_pred = dummy_clf.predict(X_val)\n",
    "    \n",
    "    accuracy = accuracy_score(y_val, y_val_pred)\n",
    "    print(f\"Базовое качество DummyClassifier {name} (most_frequent): {accuracy:.4f}\")"
   ],
   "id": "15f0e58bdead0691",
   "outputs": [
    {
     "name": "stdout",
     "output_type": "stream",
     "text": [
      "Базовое качество DummyClassifier balanced_df (most_frequent): 0.1042\n",
      "Базовое качество DummyClassifier split_df (most_frequent): 0.2172\n",
      "Базовое качество DummyClassifier df_balanced_cleaned (most_frequent): 0.1044\n",
      "Базовое качество DummyClassifier df_split_cleaned (most_frequent): 0.2172\n"
     ]
    }
   ],
   "execution_count": 4
  },
  {
   "metadata": {},
   "cell_type": "markdown",
   "source": "Проверяем фреймы на пустые значения и получаем, что Proccess текст уничтожил одну строку текст, уберем её и пойдем дальше.",
   "id": "8ddd61f497bd9b10"
  },
  {
   "metadata": {
    "ExecuteTime": {
     "end_time": "2025-03-11T13:23:24.462514Z",
     "start_time": "2025-03-11T13:23:24.424498Z"
    }
   },
   "cell_type": "code",
   "source": [
    "print(split_df[\"processed_full_text\"].isna().any().any())\n",
    "print(balanced_df[\"processed_full_text\"].isna().any().any())\n",
    "print(df_balanced_cleaned[\"processed_full_text\"].isna().any().any())\n",
    "print(df_split_cleaned[\"processed_full_text\"].isna().any().any())\n"
   ],
   "id": "377a6a90477660bb",
   "outputs": [
    {
     "name": "stdout",
     "output_type": "stream",
     "text": [
      "False\n",
      "False\n",
      "False\n",
      "False\n"
     ]
    }
   ],
   "execution_count": 24
  },
  {
   "metadata": {
    "ExecuteTime": {
     "end_time": "2025-03-11T13:07:12.361177Z",
     "start_time": "2025-03-11T13:07:12.209575Z"
    }
   },
   "cell_type": "code",
   "source": [
    "# split_df.dropna(inplace=True)\n",
    "# balanced_df.dropna(inplace=True)\n",
    "# df_balanced_cleaned.dropna(inplace=True)\n",
    "# df_split_cleaned.dropna(inplace=True)"
   ],
   "id": "671b9bf6ab41e4c",
   "outputs": [],
   "execution_count": 14
  },
  {
   "metadata": {
    "ExecuteTime": {
     "end_time": "2025-03-11T13:22:33.393283Z",
     "start_time": "2025-03-11T13:22:33.389342Z"
    }
   },
   "cell_type": "code",
   "source": "len(balanced_df)",
   "id": "64e7a08f2cfcfe",
   "outputs": [
    {
     "data": {
      "text/plain": [
       "99926"
      ]
     },
     "execution_count": 19,
     "metadata": {},
     "output_type": "execute_result"
    }
   ],
   "execution_count": 19
  },
  {
   "metadata": {
    "ExecuteTime": {
     "end_time": "2025-03-11T13:07:14.878483Z",
     "start_time": "2025-03-11T13:07:14.869217Z"
    }
   },
   "cell_type": "code",
   "source": [
    "print(split_df['topic'].value_counts())\n",
    "print(balanced_df['topic'].value_counts())"
   ],
   "id": "330472c82b3f41ee",
   "outputs": [
    {
     "name": "stdout",
     "output_type": "stream",
     "text": [
      "topic\n",
      "Россия               21708\n",
      "Мир                  18456\n",
      "Экономика            10757\n",
      "Спорт                 8711\n",
      "Культура              7275\n",
      "Бывший СССР           7223\n",
      "Наука и техника       7169\n",
      "Интернет и СМИ        6041\n",
      "Из жизни              3733\n",
      "Дом                   2940\n",
      "Силовые структуры     2650\n",
      "Ценности              1050\n",
      "Бизнес                1001\n",
      "Путешествия            867\n",
      "69-я параллель         171\n",
      "Крым                    90\n",
      "Культпросвет            46\n",
      "EMPTY                   26\n",
      "Легпром                 15\n",
      "Библиотека               9\n",
      "Name: count, dtype: int64\n",
      "topic\n",
      "Россия               10903\n",
      "Мир                  10101\n",
      "Экономика             7896\n",
      "Спорт                 7404\n",
      "Наука и техника       6997\n",
      "Бывший СССР           6986\n",
      "Культура              6933\n",
      "Интернет и СМИ        6673\n",
      "Из жизни              6018\n",
      "Дом                   5782\n",
      "Силовые структуры     5757\n",
      "Ценности              5299\n",
      "Бизнес                5270\n",
      "Путешествия           5261\n",
      "69-я параллель        1268\n",
      "Крым                   666\n",
      "Культпросвет           340\n",
      "EMPTY                  194\n",
      "Легпром                114\n",
      "Библиотека              64\n",
      "Name: count, dtype: int64\n"
     ]
    }
   ],
   "execution_count": 15
  },
  {
   "metadata": {},
   "cell_type": "markdown",
   "source": "Проверяем что мы не потеряли ни один классификатор во всех фреймах, которые будем использовать для обучения.",
   "id": "b92767262cff755f"
  },
  {
   "metadata": {
    "ExecuteTime": {
     "end_time": "2025-03-11T13:07:22.212056Z",
     "start_time": "2025-03-11T13:07:22.197480Z"
    }
   },
   "cell_type": "code",
   "source": [
    "print(len(data_dfs[\"balanced_df\"][\"test_df\"]['topic'].value_counts()))\n",
    "print(len(data_dfs[\"balanced_df\"][\"train_df\"]['topic'].value_counts()))\n",
    "print(len(data_dfs[\"balanced_df\"][\"val_df\"]['topic'].value_counts()))\n",
    "print(len(data_dfs[\"split_df\"][\"test_df\"]['topic'].value_counts()))\n",
    "print(len(data_dfs[\"split_df\"][\"train_df\"]['topic'].value_counts()))\n",
    "print(len(data_dfs[\"split_df\"][\"val_df\"]['topic'].value_counts()))"
   ],
   "id": "9bc13bd666239741",
   "outputs": [
    {
     "name": "stdout",
     "output_type": "stream",
     "text": [
      "20\n",
      "20\n",
      "20\n",
      "20\n",
      "20\n",
      "20\n"
     ]
    }
   ],
   "execution_count": 16
  },
  {
   "metadata": {},
   "cell_type": "markdown",
   "source": "",
   "id": "669c6d78a146c96f"
  },
  {
   "metadata": {},
   "cell_type": "markdown",
   "source": [
    "Подготовив все данные приступлю к обучению модели `LogisticRegression`. Для настроек `TfidfVectorizer` я выбрал триграммы, потому что работаем с большим количеством документов и со среднем объёмом текстов. Я не стал устанавливать параметр max_features, потому что хоть это и может значительно ускорить обучение, но я выполнил лематизацию и урезание матрицы при помощи max_features нигативно сказывается на результате, оптимально минимальным параметром можно выставить значение 10000, на моих данных данное значение параметра показывает максимальный результат между скоростью и качеством, в скорости 2-3 раза, в качестве, 0,15. Так же из-за низкочисленных классификаторов таких как \"EMPTY\" и \"Библиотека\" необходимо установить умеренную регуляризацию `C=10`, иначе модель отказывается обучиться и показывает f1 0 на этих классификаторах.\n",
    "\n",
    "Использование ngram_range=(1, 3) позволило модели учитывать контекст. Параметры min_df=5 и max_df=0.9 помогли отфильтровать редкие и слишком частые токены, что также улучшило результаты."
   ],
   "id": "ddf9dc6016689d63"
  },
  {
   "metadata": {
    "ExecuteTime": {
     "end_time": "2025-03-14T08:25:55.988624Z",
     "start_time": "2025-03-14T08:22:42.568173Z"
    }
   },
   "cell_type": "code",
   "source": [
    "from sklearn.feature_extraction.text import TfidfVectorizer\n",
    "from sklearn.linear_model import LogisticRegression\n",
    "from sklearn.metrics import accuracy_score, classification_report\n",
    "\n",
    "dataframe_train = data_dfs[\"balanced_df\"][\"train_df\"]\n",
    "dataframe_val = data_dfs[\"balanced_df\"][\"val_df\"]\n",
    "dataframe_test = data_dfs[\"balanced_df\"][\"test_df\"]\n",
    "\n",
    "y_train = dataframe_train['topic']\n",
    "y_val = dataframe_val['topic']\n",
    "y_test = dataframe_test['topic']\n",
    "\n",
    "vectorizer = TfidfVectorizer(\n",
    "        ngram_range=(1, 3),\n",
    "        min_df=5,\n",
    "        max_df=0.9,\n",
    "        )\n",
    "\n",
    "X_train_vect = vectorizer.fit_transform(dataframe_train['processed_full_text'])\n",
    "X_val_vect = vectorizer.transform(dataframe_val['processed_full_text'])\n",
    "X_test_vect = vectorizer.transform(dataframe_test['processed_full_text'])\n",
    "\n",
    "model = LogisticRegression(\n",
    "        max_iter=10000, # ConvergenceWarning\n",
    "        C = 10,\n",
    "        n_jobs=-1,\n",
    "        )\n",
    "\n",
    "model.fit(X_train_vect, y_train)\n",
    "\n",
    "# Проверка на валидации\n",
    "y_val_pred = model.predict(X_val_vect)\n",
    "val_accuracy = accuracy_score(y_val, y_val_pred)\n",
    "print(f\"\\nКачество LogisticRegression с TfidfVectorizer на валидации: {val_accuracy:.4f}\")\n",
    "\n",
    "# Проверка на тестовой выборке\n",
    "y_test_pred = model.predict(X_test_vect)\n",
    "test_accuracy = accuracy_score(y_test, y_test_pred)\n",
    "print(f\"Качество LogisticRegression с TfidfVectorizer на тестовой выборке: {test_accuracy:.4f}\")\n",
    "\n",
    "# Отчёт по классам\n",
    "print(\"\\nClassification report на тесте с TfidfVectorizer:\")\n",
    "print(classification_report(y_test, y_test_pred))"
   ],
   "id": "465411a2e69cc2cd",
   "outputs": [
    {
     "name": "stdout",
     "output_type": "stream",
     "text": [
      "\n",
      "Качество LogisticRegression с TfidfVectorizer на валидации: 0.8236\n",
      "Качество LogisticRegression с TfidfVectorizer на тестовой выборке: 0.8257\n",
      "\n",
      "Classification report на тесте с TfidfVectorizer:\n",
      "                   precision    recall  f1-score   support\n",
      "\n",
      "   69-я параллель       0.94      0.79      0.86       254\n",
      "       Библиотека       1.00      0.31      0.47        13\n",
      "           Бизнес       0.80      0.81      0.80      1098\n",
      "      Бывший СССР       0.84      0.87      0.86      1398\n",
      "              Дом       0.91      0.90      0.90      1189\n",
      "         Из жизни       0.70      0.71      0.71      1234\n",
      "   Интернет и СМИ       0.79      0.76      0.78      1350\n",
      "             Крым       0.83      0.69      0.75       133\n",
      "    Культпросвет        0.87      0.49      0.62        68\n",
      "         Культура       0.86      0.89      0.87      1390\n",
      "          Легпром       1.00      0.35      0.52        23\n",
      "              Мир       0.76      0.80      0.78      1943\n",
      "  Наука и техника       0.85      0.81      0.83      1406\n",
      "      Путешествия       0.87      0.88      0.87      1098\n",
      "           Россия       0.75      0.76      0.75      2085\n",
      "Силовые структуры       0.77      0.78      0.78      1184\n",
      "            Спорт       0.95      0.97      0.96      1473\n",
      "         Ценности       0.95      0.91      0.93      1106\n",
      "        Экономика       0.83      0.81      0.82      1555\n",
      "\n",
      "         accuracy                           0.83     20000\n",
      "        macro avg       0.86      0.75      0.78     20000\n",
      "     weighted avg       0.83      0.83      0.83     20000\n",
      "\n"
     ]
    }
   ],
   "execution_count": 5
  },
  {
   "metadata": {},
   "cell_type": "markdown",
   "source": "Предположив, что EMPTY является классификатором, который обозначаниет что у статьи нету темы, я решил его убрать и так же убрать низкочисленные классификаторы такие как \"Легпром\" и \"Библиотека\". Качество предсказания модели улучшилось на 0,1 при `С=1`",
   "id": "1035a9d8297abbcd"
  },
  {
   "metadata": {
    "ExecuteTime": {
     "end_time": "2025-03-14T08:27:55.231552Z",
     "start_time": "2025-03-14T08:25:55.990187Z"
    }
   },
   "cell_type": "code",
   "source": [
    "dataframe_train = data_dfs[\"df_balanced_cleaned\"][\"train_df\"]\n",
    "dataframe_val = data_dfs[\"df_balanced_cleaned\"][\"val_df\"]\n",
    "dataframe_test = data_dfs[\"df_balanced_cleaned\"][\"test_df\"]\n",
    "\n",
    "y_train = dataframe_train['topic']\n",
    "y_val = dataframe_val['topic']\n",
    "y_test = dataframe_test['topic']\n",
    "\n",
    "vectorizer = TfidfVectorizer(\n",
    "        ngram_range=(1, 3),\n",
    "        min_df=5,\n",
    "        max_df=0.9,\n",
    "        )\n",
    "\n",
    "X_train_vect = vectorizer.fit_transform(dataframe_train['processed_full_text'])\n",
    "X_val_vect = vectorizer.transform(dataframe_val['processed_full_text'])\n",
    "X_test_vect = vectorizer.transform(dataframe_test['processed_full_text'])\n",
    "\n",
    "model = LogisticRegression(\n",
    "        n_jobs=-1,\n",
    "        max_iter=10000, # ConvergenceWarning\n",
    "        )\n",
    "\n",
    "model.fit(X_train_vect, y_train)\n",
    "\n",
    "# Проверка на валидации\n",
    "y_val_pred = model.predict(X_val_vect)\n",
    "val_accuracy = accuracy_score(y_val, y_val_pred)\n",
    "print(f\"\\nКачество LogisticRegression с TfidfVectorizer на валидации: {val_accuracy:.4f}\")\n",
    "\n",
    "# Проверка на тестовой выборке\n",
    "y_test_pred = model.predict(X_test_vect)\n",
    "test_accuracy = accuracy_score(y_test, y_test_pred)\n",
    "print(f\"Качество LogisticRegression с TfidfVectorizer на тестовой выборке: {test_accuracy:.4f}\")\n",
    "\n",
    "# Отчёт по классам\n",
    "print(\"\\nClassification report на тесте с TfidfVectorizer:\")\n",
    "print(classification_report(y_test, y_test_pred))"
   ],
   "id": "951081231d7460a6",
   "outputs": [
    {
     "name": "stdout",
     "output_type": "stream",
     "text": [
      "\n",
      "Качество LogisticRegression с TfidfVectorizer на валидации: 0.8011\n",
      "Качество LogisticRegression с TfidfVectorizer на тестовой выборке: 0.8085\n",
      "\n",
      "Classification report на тесте с TfidfVectorizer:\n",
      "                   precision    recall  f1-score   support\n",
      "\n",
      "   69-я параллель       0.91      0.71      0.80       253\n",
      "           Бизнес       0.78      0.75      0.76      1098\n",
      "      Бывший СССР       0.85      0.86      0.85      1398\n",
      "              Дом       0.87      0.88      0.87      1190\n",
      "         Из жизни       0.70      0.71      0.71      1234\n",
      "   Интернет и СМИ       0.80      0.73      0.77      1350\n",
      "             Крым       0.81      0.59      0.69       133\n",
      "    Культпросвет        0.95      0.31      0.47        68\n",
      "         Культура       0.83      0.87      0.85      1390\n",
      "              Мир       0.74      0.79      0.76      1943\n",
      "  Наука и техника       0.82      0.82      0.82      1407\n",
      "      Путешествия       0.85      0.85      0.85      1098\n",
      "           Россия       0.72      0.76      0.74      2085\n",
      "Силовые структуры       0.75      0.72      0.74      1184\n",
      "            Спорт       0.95      0.95      0.95      1473\n",
      "         Ценности       0.94      0.91      0.92      1106\n",
      "        Экономика       0.80      0.81      0.80      1555\n",
      "\n",
      "         accuracy                           0.81     19965\n",
      "        macro avg       0.83      0.77      0.79     19965\n",
      "     weighted avg       0.81      0.81      0.81     19965\n",
      "\n"
     ]
    }
   ],
   "execution_count": 6
  },
  {
   "metadata": {},
   "cell_type": "markdown",
   "source": "# Подбор параметров",
   "id": "c2254860039ec4ae"
  },
  {
   "metadata": {},
   "cell_type": "markdown",
   "source": [
    "Начнем подбор парметров. C=10, C=50: Постепенное уменьшение регуляризации, чтобы модель могла лучше подстроиться под данные. max_iter=10000 и max_iter=15000 — это большие значения, которые гарантируют, что модель успеет сойтись даже на сложных данных, потому что 1000 и 5000 не хватает и в малочисленных классификаторах я получаю f1 = 0. Использую `balanced` из за, что данные несбалансированы, хоть я и попытался равномерно их распределить, но все равно этого не достаточно, что бы назвать его сбалансированным. \n",
    "\n",
    "Оставил `penalty=l2`, потому что `solver=lbfgs` поддерживает только его. ``lbfgs`` хорошо подходит для данных с умеренным количеством признаков и более быстрый.\n",
    "\n",
    "Так же у меня к сожалению не получилось подобрать параметры к saga, хоть он и должен показывать себя лучше на больших объёмах данных, но я прожал 3 часа, но так и получил результат по `GridSearchCV`.\n",
    "\n",
    "Так же я установил `max_features=10000`, что конечно повлияет на результат, но зачительно ускорит подборк."
   ],
   "id": "292891335747353"
  },
  {
   "metadata": {
    "ExecuteTime": {
     "end_time": "2025-03-10T14:23:01.065339Z",
     "start_time": "2025-03-10T14:20:44.813056Z"
    }
   },
   "cell_type": "code",
   "source": [
    "from sklearn.model_selection import GridSearchCV\n",
    "from sklearn.feature_extraction.text import CountVectorizer\n",
    "from sklearn.feature_extraction.text import TfidfVectorizer\n",
    "from sklearn.linear_model import LogisticRegression\n",
    "from sklearn.metrics import accuracy_score, classification_report\n",
    "\n",
    "def grid_search(vectorizer, data):\n",
    "    param_grid = {\n",
    "    'C': [10, 50],\n",
    "    'max_iter': [10000, 7500, 12500],\n",
    "    'penalty': ['l2'],\n",
    "    'solver': ['lbfgs'],\n",
    "    'class_weight': ['balanced'],\n",
    "    }   \n",
    "\n",
    "    logreg = LogisticRegression(\n",
    "        random_state=42,\n",
    "        n_jobs=-1\n",
    "    )\n",
    "    \n",
    "    grid_search = GridSearchCV(\n",
    "        logreg,\n",
    "        param_grid,\n",
    "        cv=3,  # кросс-валидация по 3 фолдам, ну чуть быстрее.\n",
    "        scoring='accuracy',\n",
    "        n_jobs=-1,\n",
    "        verbose=2\n",
    "    )\n",
    "    \n",
    "    dataframe_train = data[\"train_df\"]\n",
    "    dataframe_val = data[\"val_df\"]\n",
    "    dataframe_test = data[\"test_df\"]\n",
    "    \n",
    "    y_train = dataframe_train['topic']\n",
    "    y_val = dataframe_val['topic']\n",
    "    y_test = dataframe_test['topic']\n",
    "\n",
    "    X_train_vect = vectorizer.fit_transform(dataframe_train['processed_full_text'])\n",
    "    X_val_vect = vectorizer.transform(dataframe_val['processed_full_text'])\n",
    "    X_test_vect = vectorizer.transform(dataframe_test['processed_full_text'])\n",
    "    \n",
    "    grid_search.fit(X_train_vect, y_train)\n",
    "    \n",
    "    print(f\"\\nЛучшие параметры: {grid_search.best_params_}\")\n",
    "    print(f\"Лучшее качество на кросс-валидации: {grid_search.best_score_:.4f}\")\n",
    "    \n",
    "    # Оценка на валидации с лучшей моделью\n",
    "    best_model = grid_search.best_estimator_\n",
    "    y_val_pred = best_model.predict(X_val_vect)\n",
    "    val_accuracy = accuracy_score(y_val, y_val_pred)\n",
    "    print(f\"\\nКачество на валидации с лучшими параметрами: {val_accuracy:.4f}\")\n",
    "    \n",
    "    # Финальная проверка на тесте\n",
    "    y_test_pred = best_model.predict(X_test_vect)\n",
    "    test_accuracy = accuracy_score(y_test, y_test_pred)\n",
    "    print(f\"\\nКачество на тестовой выборке: {test_accuracy:.4f}\")\n",
    "    \n",
    "    # Отчёт по классам\n",
    "    print(\"\\nClassification report на тесте:\")\n",
    "    print(classification_report(y_test, y_test_pred))\n",
    "    \n",
    "grid_search(TfidfVectorizer(\n",
    "        max_features=10000,\n",
    "        ngram_range=(1, 3),\n",
    "        min_df=5,\n",
    "        max_df=0.9,\n",
    "        ), data_dfs[\"balanced_df\"])\n",
    "\n",
    "    "
   ],
   "id": "22e690d3ebaa91bb",
   "outputs": [
    {
     "name": "stdout",
     "output_type": "stream",
     "text": [
      "Fitting 3 folds for each of 6 candidates, totalling 18 fits\n",
      "\n",
      "Лучшие параметры: {'C': 10, 'class_weight': 'balanced', 'max_iter': 10000, 'penalty': 'l2', 'solver': 'lbfgs'}\n",
      "Лучшее качество на кросс-валидации: 0.8010\n",
      "\n",
      "Качество на валидации с лучшими параметрами: 0.8063\n",
      "\n",
      "Качество на тестовой выборке: 0.8105\n",
      "\n",
      "Classification report на тесте:\n",
      "                   precision    recall  f1-score   support\n",
      "\n",
      "   69-я параллель       0.83      0.86      0.85       253\n",
      "            EMPTY       0.35      0.17      0.23        40\n",
      "       Библиотека       1.00      0.85      0.92        13\n",
      "           Бизнес       0.76      0.79      0.78      1054\n",
      "      Бывший СССР       0.83      0.86      0.85      1397\n",
      "              Дом       0.88      0.87      0.88      1157\n",
      "         Из жизни       0.68      0.73      0.70      1205\n",
      "   Интернет и СМИ       0.78      0.77      0.78      1336\n",
      "             Крым       0.69      0.80      0.75       133\n",
      "    Культпросвет        0.58      0.66      0.62        68\n",
      "         Культура       0.87      0.86      0.86      1387\n",
      "          Легпром       0.71      0.65      0.68        23\n",
      "              Мир       0.76      0.75      0.76      2025\n",
      "  Наука и техника       0.83      0.81      0.82      1404\n",
      "      Путешествия       0.86      0.87      0.87      1052\n",
      "           Россия       0.74      0.71      0.73      2181\n",
      "Силовые структуры       0.73      0.77      0.75      1151\n",
      "            Спорт       0.95      0.96      0.96      1481\n",
      "         Ценности       0.94      0.94      0.94      1060\n",
      "        Экономика       0.82      0.79      0.80      1580\n",
      "\n",
      "         accuracy                           0.81     20000\n",
      "        macro avg       0.78      0.77      0.77     20000\n",
      "     weighted avg       0.81      0.81      0.81     20000\n",
      "\n"
     ]
    }
   ],
   "execution_count": 16
  },
  {
   "metadata": {
    "ExecuteTime": {
     "end_time": "2025-03-11T13:22:19.658097Z",
     "start_time": "2025-03-11T13:07:32.356090Z"
    }
   },
   "cell_type": "code",
   "source": [
    "from sklearn.feature_extraction.text import CountVectorizer, TfidfVectorizer\n",
    "from sklearn.linear_model import LogisticRegression\n",
    "from sklearn.metrics import accuracy_score, classification_report\n",
    "from tqdm.notebook import tqdm\n",
    "\n",
    "# Настройки векторизаторов\n",
    "vectorizers = {\n",
    "    'CountVectorizer': \"\",\n",
    "    'TfidfVectorizer': \"\"\n",
    "}\n",
    "\n",
    "results = {}\n",
    "\n",
    "for name, vectorizer in tqdm(vectorizers.items(), desc=\"Векторизаторы\"):\n",
    "    if name == \"CountVectorizer\":\n",
    "        vectorizer = CountVectorizer(\n",
    "        \n",
    "        ngram_range=(1, 3),\n",
    "        min_df=5,\n",
    "        max_df=0.9\n",
    "    )\n",
    "    else:\n",
    "        vectorizer = TfidfVectorizer(\n",
    "        \n",
    "        ngram_range=(1, 3),\n",
    "        min_df=5,\n",
    "        max_df=0.9,\n",
    "        sublinear_tf=True\n",
    "    )\n",
    "    print(f\"\\n{name}:\")\n",
    "    for name, data in data_dfs.items():\n",
    "        print(f\"frame: {name}\")\n",
    "        \n",
    "        dataframe_train = data[\"train_df\"]\n",
    "        dataframe_val = data[\"val_df\"]\n",
    "        dataframe_test = data[\"test_df\"]\n",
    "        \n",
    "        y_train = dataframe_train['topic']\n",
    "        y_val = dataframe_val['topic']\n",
    "        y_test = dataframe_test['topic']\n",
    "\n",
    "        X_train_vect = vectorizer.fit_transform(dataframe_train['processed_full_text'])\n",
    "        X_val_vect = vectorizer.transform(dataframe_val['processed_full_text'])\n",
    "        X_test_vect = vectorizer.transform(dataframe_test['processed_full_text'])\n",
    "    \n",
    "        model = LogisticRegression(\n",
    "            C=10,\n",
    "            penalty='l2',\n",
    "            class_weight='balanced',\n",
    "            max_iter=10000,\n",
    "            solver='lbfgs',\n",
    "            n_jobs=-1\n",
    "        )\n",
    "        model.fit(X_train_vect, y_train)\n",
    "    \n",
    "        # Предсказания\n",
    "        y_val_pred = model.predict(X_val_vect)\n",
    "        y_test_pred = model.predict(X_test_vect)\n",
    "    \n",
    "        # Метрики\n",
    "        val_accuracy = accuracy_score(y_val, y_val_pred)\n",
    "        test_accuracy = accuracy_score(y_test, y_test_pred)\n",
    "        \n",
    "        print(f\"  Валидация: {val_accuracy:.4f}\")\n",
    "        print(f\"  Тест: {test_accuracy:.4f}\")\n",
    "        \n",
    "        # Сохраняем результаты\n",
    "        results[name] = {\n",
    "            'val_accuracy': val_accuracy,\n",
    "            'test_accuracy': test_accuracy,\n",
    "            'classification_report': classification_report(y_test, y_test_pred, output_dict=True, zero_division=0)\n",
    "        }"
   ],
   "id": "cf144bdf7f3b5dec",
   "outputs": [
    {
     "data": {
      "text/plain": [
       "Векторизаторы:   0%|          | 0/2 [00:00<?, ?it/s]"
      ],
      "application/vnd.jupyter.widget-view+json": {
       "version_major": 2,
       "version_minor": 0,
       "model_id": "7eaa7398d56d46e6aa0f9b339f5a55b2"
      }
     },
     "metadata": {},
     "output_type": "display_data"
    },
    {
     "name": "stdout",
     "output_type": "stream",
     "text": [
      "\n",
      "CountVectorizer:\n",
      "frame: balanced_df\n",
      "  Валидация: 0.8099\n",
      "  Тест: 0.8081\n",
      "frame: split_df\n",
      "  Валидация: 0.8097\n",
      "  Тест: 0.8145\n",
      "frame: df_balanced_cleaned\n",
      "  Валидация: 0.8102\n",
      "  Тест: 0.8113\n",
      "frame: df_split_cleaned\n",
      "  Валидация: 0.8133\n",
      "  Тест: 0.8094\n",
      "\n",
      "TfidfVectorizer:\n",
      "frame: balanced_df\n",
      "  Валидация: 0.8254\n",
      "  Тест: 0.8273\n",
      "frame: split_df\n",
      "  Валидация: 0.8235\n",
      "  Тест: 0.8294\n",
      "frame: df_balanced_cleaned\n",
      "  Валидация: 0.8267\n",
      "  Тест: 0.8286\n",
      "frame: df_split_cleaned\n",
      "  Валидация: 0.8264\n",
      "  Тест: 0.8272\n"
     ]
    }
   ],
   "execution_count": 17
  },
  {
   "metadata": {},
   "cell_type": "markdown",
   "source": [
    "`TfidfVectorizer` показал себя лучше, чем `CountVectorizer`, во всех случаях. Это связано с тем, что TfidfVectorizer учитывает не только частоту слов, но и их важность в контексте всего документа, что позволяет лучше выделять значимые признаки.\n",
    "\n",
    "Попытка равномерно распределить данные (balanced_df) показала результаты, близкие к несбалансированным (split_df), но после удаления классификаторов с низкой значимостью качество модели немного улучшилось.\n",
    "\n",
    "\n",
    "balanced_df: accuracy на тесте — 0.8306.\n",
    "df_balanced_cleaned: accuracy на тесте — 0.8339.\n",
    "\n",
    "В итоге удаление малоинформативных классов помогает модели лучше обобщать, конечно не значительно, но результат есть.\n",
    "\n",
    "Модель демонстрирует стабильность на валидационной и тестовой выборках, что говорит об отсутствии переобучения.\n",
    "\n",
    "Очистка данных и более равномерное распределение классов положительно влияют на качество модели."
   ],
   "id": "2ec52d39aed2be72"
  }
 ],
 "metadata": {
  "kernelspec": {
   "display_name": "Python 3",
   "language": "python",
   "name": "python3"
  },
  "language_info": {
   "codemirror_mode": {
    "name": "ipython",
    "version": 2
   },
   "file_extension": ".py",
   "mimetype": "text/x-python",
   "name": "python",
   "nbconvert_exporter": "python",
   "pygments_lexer": "ipython2",
   "version": "2.7.6"
  }
 },
 "nbformat": 4,
 "nbformat_minor": 5
}
